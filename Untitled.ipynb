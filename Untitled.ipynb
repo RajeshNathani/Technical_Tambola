{
 "cells": [
  {
   "cell_type": "code",
   "execution_count": 4,
   "id": "functioning-letters",
   "metadata": {},
   "outputs": [],
   "source": [
    "import pandas as pd\n",
    "import random"
   ]
  },
  {
   "cell_type": "code",
   "execution_count": 6,
   "id": "transparent-asthma",
   "metadata": {},
   "outputs": [],
   "source": [
    "data = pd.read_csv('data.csv')"
   ]
  },
  {
   "cell_type": "code",
   "execution_count": 12,
   "id": "intended-torture",
   "metadata": {},
   "outputs": [],
   "source": [
    "data['first'] = data['first'].astype('object')\n",
    "data['second'] = data['second'].astype('object')\n",
    "data['third'] = data['third'].astype('object')"
   ]
  },
  {
   "cell_type": "code",
   "execution_count": 71,
   "id": "joined-sequence",
   "metadata": {
    "scrolled": true
   },
   "outputs": [],
   "source": [
    "for i in range(len(data['name'])):\n",
    "        first_row = [random.sample(range(1, 9),5) , random.sample(range(1, 99), 5)]\n",
    "        second_row = [random.sample(range(1, 9), 5) , random.sample(range(1, 99), 5)]\n",
    "        third_row = [random.sample(range(1, 9), 5) , random.sample(range(1, 99), 5)]\n",
    "        first_row = dict(list(zip(first_row[0], first_row[1])))\n",
    "        second_row = dict(list(zip(second_row[0], second_row[1])))\n",
    "        third_row = dict(list(zip(third_row[0], third_row[1])))\n",
    "        data.at[i, 'first'] = first_row\n",
    "        data.at[i, 'second'] = second_row\n",
    "        data.at[i, 'third'] = third_row  "
   ]
  },
  {
   "cell_type": "code",
   "execution_count": 72,
   "id": "treated-maker",
   "metadata": {},
   "outputs": [],
   "source": [
    "data.to_csv('data_final.csv')"
   ]
  },
  {
   "cell_type": "code",
   "execution_count": 73,
   "id": "mediterranean-charge",
   "metadata": {},
   "outputs": [
    {
     "data": {
      "text/html": [
       "<div>\n",
       "<style scoped>\n",
       "    .dataframe tbody tr th:only-of-type {\n",
       "        vertical-align: middle;\n",
       "    }\n",
       "\n",
       "    .dataframe tbody tr th {\n",
       "        vertical-align: top;\n",
       "    }\n",
       "\n",
       "    .dataframe thead th {\n",
       "        text-align: right;\n",
       "    }\n",
       "</style>\n",
       "<table border=\"1\" class=\"dataframe\">\n",
       "  <thead>\n",
       "    <tr style=\"text-align: right;\">\n",
       "      <th></th>\n",
       "      <th>id</th>\n",
       "      <th>name</th>\n",
       "      <th>password</th>\n",
       "      <th>email</th>\n",
       "      <th>first</th>\n",
       "      <th>second</th>\n",
       "      <th>third</th>\n",
       "    </tr>\n",
       "  </thead>\n",
       "  <tbody>\n",
       "    <tr>\n",
       "      <th>0</th>\n",
       "      <td>1</td>\n",
       "      <td>Nishant</td>\n",
       "      <td>abc</td>\n",
       "      <td>nishant@gmail.com</td>\n",
       "      <td>{3: 68, 7: 73, 1: 59, 4: 12, 2: 19}</td>\n",
       "      <td>{6: 34, 4: 10, 3: 82, 8: 63, 1: 68}</td>\n",
       "      <td>{7: 35, 2: 46, 5: 23, 3: 63, 1: 37}</td>\n",
       "    </tr>\n",
       "    <tr>\n",
       "      <th>1</th>\n",
       "      <td>2</td>\n",
       "      <td>Sarthak</td>\n",
       "      <td>123</td>\n",
       "      <td>sartahk@gmail.com</td>\n",
       "      <td>{8: 97, 3: 10, 2: 65, 7: 28, 6: 46}</td>\n",
       "      <td>{3: 24, 4: 2, 7: 59, 1: 39, 5: 47}</td>\n",
       "      <td>{7: 37, 8: 31, 4: 77, 6: 47, 2: 28}</td>\n",
       "    </tr>\n",
       "    <tr>\n",
       "      <th>2</th>\n",
       "      <td>3</td>\n",
       "      <td>Rajesh</td>\n",
       "      <td>abc1</td>\n",
       "      <td>rajesh@gmail.com</td>\n",
       "      <td>{8: 93, 2: 98, 7: 38, 4: 81, 6: 27}</td>\n",
       "      <td>{2: 51, 5: 65, 4: 31, 6: 19, 7: 81}</td>\n",
       "      <td>{1: 32, 6: 37, 3: 58, 5: 29, 7: 19}</td>\n",
       "    </tr>\n",
       "  </tbody>\n",
       "</table>\n",
       "</div>"
      ],
      "text/plain": [
       "   id     name password              email  \\\n",
       "0   1  Nishant      abc  nishant@gmail.com   \n",
       "1   2  Sarthak      123  sartahk@gmail.com   \n",
       "2   3   Rajesh     abc1   rajesh@gmail.com   \n",
       "\n",
       "                                 first                               second  \\\n",
       "0  {3: 68, 7: 73, 1: 59, 4: 12, 2: 19}  {6: 34, 4: 10, 3: 82, 8: 63, 1: 68}   \n",
       "1  {8: 97, 3: 10, 2: 65, 7: 28, 6: 46}   {3: 24, 4: 2, 7: 59, 1: 39, 5: 47}   \n",
       "2  {8: 93, 2: 98, 7: 38, 4: 81, 6: 27}  {2: 51, 5: 65, 4: 31, 6: 19, 7: 81}   \n",
       "\n",
       "                                 third  \n",
       "0  {7: 35, 2: 46, 5: 23, 3: 63, 1: 37}  \n",
       "1  {7: 37, 8: 31, 4: 77, 6: 47, 2: 28}  \n",
       "2  {1: 32, 6: 37, 3: 58, 5: 29, 7: 19}  "
      ]
     },
     "execution_count": 73,
     "metadata": {},
     "output_type": "execute_result"
    }
   ],
   "source": [
    "data"
   ]
  },
  {
   "cell_type": "code",
   "execution_count": 20,
   "id": "uniform-string",
   "metadata": {},
   "outputs": [],
   "source": [
    "first = data[data['name']==\"Nishant\"]['first'].tolist()"
   ]
  },
  {
   "cell_type": "code",
   "execution_count": 68,
   "id": "described-oasis",
   "metadata": {},
   "outputs": [
    {
     "data": {
      "text/plain": [
       "{1: 7, 6: 24, 2: 75, 8: 72, 7: 66}"
      ]
     },
     "execution_count": 68,
     "metadata": {},
     "output_type": "execute_result"
    }
   ],
   "source": [
    "dict(first_row)"
   ]
  },
  {
   "cell_type": "code",
   "execution_count": null,
   "id": "published-willow",
   "metadata": {},
   "outputs": [],
   "source": []
  }
 ],
 "metadata": {
  "kernelspec": {
   "display_name": "Python 3",
   "language": "python",
   "name": "python3"
  },
  "language_info": {
   "codemirror_mode": {
    "name": "ipython",
    "version": 3
   },
   "file_extension": ".py",
   "mimetype": "text/x-python",
   "name": "python",
   "nbconvert_exporter": "python",
   "pygments_lexer": "ipython3",
   "version": "3.8.7"
  }
 },
 "nbformat": 4,
 "nbformat_minor": 5
}
